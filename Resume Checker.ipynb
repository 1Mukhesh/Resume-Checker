{
 "cells": [
  {
   "cell_type": "code",
   "execution_count": 1,
   "id": "2cbd21be",
   "metadata": {},
   "outputs": [],
   "source": [
    "import PyPDF2\n",
    "import docx\n",
    "import spacy\n",
    "import re\n",
    "from nltk.corpus import stopwords\n",
    "import nltk\n",
    "#nltk.download('stopwords')\n",
    "from sklearn.feature_extraction.text import CountVectorizer\n",
    "from sklearn.metrics.pairwise import cosine_similarity"
   ]
  },
  {
   "cell_type": "code",
   "execution_count": 2,
   "id": "b3396264",
   "metadata": {},
   "outputs": [],
   "source": [
    "# Step 1: Resume Parsing\n",
    "def extract_text_from_pdf(pdf_path):\n",
    "    with open(pdf_path, 'rb') as file:\n",
    "        reader = PyPDF2.PdfReader(file)\n",
    "        text = ''\n",
    "        for page_num in range(len(reader.pages)):\n",
    "            text += reader.pages[page_num].extract_text()\n",
    "    return text\n",
    "\n",
    "def extract_text_from_docx(docx_path):\n",
    "    doc = docx.Document(docx_path)\n",
    "    text = ''\n",
    "    for paragraph in doc.paragraphs:\n",
    "        text += paragraph.text\n",
    "    return text\n"
   ]
  },
  {
   "cell_type": "code",
   "execution_count": 3,
   "id": "e283f5a0",
   "metadata": {},
   "outputs": [],
   "source": [
    "# Step 2: Feature Extraction\n",
    "def extract_features(text):\n",
    "    nlp = spacy.load(\"en_core_web_sm\")\n",
    "    doc = nlp(text)\n",
    "    \n",
    "    entities = {ent.label_: ent.text for ent in doc.ents}\n",
    "    \n",
    "    keywords = [token.text for token in doc if not token.is_stop and not token.is_punct]\n",
    "    \n",
    "    return entities, keywords"
   ]
  },
  {
   "cell_type": "code",
   "execution_count": 4,
   "id": "bc7386b5",
   "metadata": {},
   "outputs": [],
   "source": [
    "# Step 3: Job Description Parsing (Similar to Step 2)\n",
    "nlp = spacy.load(\"en_core_web_sm\")\n",
    "def parse_job_description(job_description):\n",
    "    doc = nlp(job_description)\n",
    "    \n",
    "    entities = {ent.label_: ent.text for ent in doc.ents}\n",
    "    \n",
    "    keywords = [token.text for token in doc if not token.is_stop and not token.is_punct]\n",
    "    \n",
    "    return entities, keywords\n"
   ]
  },
  {
   "cell_type": "code",
   "execution_count": 5,
   "id": "fd6dfcda",
   "metadata": {},
   "outputs": [],
   "source": [
    "# step 4: preprocess the data\n",
    "def preprocess_text(text_tuple):\n",
    "    stop_words = set(stopwords.words('english'))\n",
    "    preprocessed_entities = []\n",
    "    for label, entity in text_tuple[0].items():\n",
    "        preprocessed_entity = re.sub(r'[^a-zA-Z\\s]', '', entity).lower()\n",
    "        preprocessed_entities.extend([word for word in preprocessed_entity.split() if word not in stop_words])\n",
    "    \n",
    "    preprocessed_keywords = [word.lower() for word in text_tuple[1] if word.lower() not in stop_words]\n",
    "    \n",
    "    return preprocessed_entities, preprocessed_keywords\n"
   ]
  },
  {
   "cell_type": "code",
   "execution_count": 6,
   "id": "e3035cca",
   "metadata": {},
   "outputs": [],
   "source": [
    "# Step 5: Similarity Calculation\n",
    "def calculate_similarity(resume_features, job_features):\n",
    "    # Convert text features into numerical vectors\n",
    "    vectorizer = CountVectorizer()\n",
    "    \n",
    "    \n",
    "    entities = resume_features[0]\n",
    "    keywords = resume_features[1]\n",
    "    \n",
    "    \n",
    "    resume_text = entities + keywords\n",
    "\n",
    "        \n",
    "    entities = job_features[0]\n",
    "    keywords = job_features[1]\n",
    "    \n",
    "    \n",
    "    job_text = entities + keywords\n",
    "    \n",
    "    resume_vector = vectorizer.fit_transform([\" \".join(resume_text)])  \n",
    "    job_vector = vectorizer.transform([\" \".join(job_text)])  \n",
    "    \n",
    "    # Calculate cosine similarity\n",
    "    similarity_score = cosine_similarity(resume_vector, job_vector)\n",
    "    return similarity_score[0][0]"
   ]
  },
  {
   "cell_type": "code",
   "execution_count": 7,
   "id": "5bccf004",
   "metadata": {},
   "outputs": [],
   "source": [
    "# Step 6: Ranking\n",
    "def rank_candidates(resumes, job_description):\n",
    "    ranked_resumes = []\n",
    "    job_features = parse_job_description(job_description)\n",
    "    job_features = preprocess_text(job_features)\n",
    "    for resume_path in resumes:\n",
    "        resume_text = ''\n",
    "        if resume_path.endswith('.pdf'):\n",
    "            resume_text = extract_text_from_pdf(resume_path)\n",
    "        elif resume_path.endswith('.docx'):\n",
    "            resume_text = extract_text_from_docx(resume_path)\n",
    "        \n",
    "        \n",
    "        if resume_text.strip():\n",
    "            resume_features = extract_features(resume_text)\n",
    "            resume_features = preprocess_text(resume_features)\n",
    "            \n",
    "            similarity_score = calculate_similarity(resume_features, job_features)\n",
    "            ranked_resumes.append((resume_path, similarity_score))\n",
    "        else:\n",
    "            \n",
    "            ranked_resumes.append((resume_path, 0))\n",
    "    \n",
    "    ranked_resumes.sort(key=lambda x: x[1], reverse=True)\n",
    "    return ranked_resumes"
   ]
  },
  {
   "cell_type": "code",
   "execution_count": 8,
   "id": "fa2746a5",
   "metadata": {},
   "outputs": [
    {
     "name": "stdout",
     "output_type": "stream",
     "text": [
      "Rank: 1, Resume: Mukhesh resume final.docx, Similarity Score: 0.6662000509933521\n",
      "Rank: 2, Resume: Mukhesh_sure resume (1).pdf, Similarity Score: 0.6197186765525231\n",
      "Rank: 3, Resume: Mukhesh sure_resume.pdf, Similarity Score: 0.6149354132834033\n",
      "Rank: 4, Resume: Mukhesh resume software.pdf, Similarity Score: 0.2302097210793726\n"
     ]
    }
   ],
   "source": [
    "# Example usage\n",
    "resumes =  ['Mukhesh resume software.pdf', 'Mukhesh resume final.docx', 'Mukhesh sure_resume.pdf','Mukhesh_sure resume (1).pdf']  \n",
    "\n",
    "\n",
    "job_description = \"\"\"We are seeking a talented and experienced Data Scientist to join our team. The ideal candidate will have a strong background in statistical analysis, machine learning, and data visualization, with a passion for solving complex problems using data-driven approaches. The Data Scientist will work closely with cross-functional teams to extract insights from large datasets, develop predictive models, and drive data-driven decision-making across the organization.\n",
    "\n",
    "Key Responsibilities:\n",
    "\n",
    "Conduct exploratory data analysis to understand patterns and trends in complex datasets.\n",
    "Develop predictive models and algorithms to solve business problems and optimize processes.\n",
    "Design and implement machine learning pipelines for data preprocessing, feature engineering, model training, and evaluation.\n",
    "Collaborate with stakeholders to define project requirements, objectives, and success criteria.\n",
    "Communicate findings and insights to technical and non-technical audiences through data visualization, reports, and presentations.\n",
    "Stay updated on the latest trends and advancements in data science, machine learning, and artificial intelligence.\n",
    "Mentor junior team members and contribute to the continuous improvement of data science practices within the organization.\n",
    "Requirements:\n",
    "\n",
    "Bachelor's or Master's degree in Computer Science, Statistics, Mathematics, or a related field.\n",
    "Proven experience as a Data Scientist or similar role, with a strong portfolio of projects demonstrating expertise in data analysis and machine learning.\n",
    "Proficiency in programming languages such as Python or R, and experience with data manipulation and analysis libraries (e.g., pandas, numpy, scikit-learn).\n",
    "Solid understanding of statistical concepts, machine learning algorithms, and experimental design.\n",
    "Experience with big data technologies and distributed computing frameworks (e.g., Hadoop, Spark) is a plus.\n",
    "Strong problem-solving skills and the ability to work independently or as part of a team in a fast-paced environment.\n",
    "Excellent communication and interpersonal skills, with the ability to explain complex technical concepts to non-technical stakeholders.\"\"\"  # Example job description\n",
    "\n",
    "\n",
    "job_features = parse_job_description(job_description)\n",
    "ranked_resumes = rank_candidates(resumes, job_description)\n",
    "for rank, (resume, score) in enumerate(ranked_resumes, start=1):\n",
    "    print(f\"Rank: {rank}, Resume: {resume}, Similarity Score: {score}\") \n",
    "\n"
   ]
  },
  {
   "cell_type": "markdown",
   "id": "21af18c2",
   "metadata": {},
   "source": [
    "the above code wil parse the pdf or docx files and rank them according to the cosine similarity with the job discription. the highly matched resume with the job discription will be ranked first and the similaritt score will be close to 1 than compared to others. this will fellow the order till end of resumes"
   ]
  },
  {
   "cell_type": "code",
   "execution_count": null,
   "id": "6508ac97",
   "metadata": {},
   "outputs": [],
   "source": []
  },
  {
   "cell_type": "code",
   "execution_count": 9,
   "id": "d790cb8b",
   "metadata": {},
   "outputs": [
    {
     "name": "stdout",
     "output_type": "stream",
     "text": [
      "Rank: 1, Resume: Mukhesh resume final.docx, Similarity Score: 0.3505847957294434\n",
      "Rank: 2, Resume: Mukhesh resume software.pdf, Similarity Score: 0.33234018715767727\n",
      "Rank: 3, Resume: Mukhesh sure_resume.pdf, Similarity Score: 0.306113355005811\n",
      "Rank: 4, Resume: Mukhesh_sure resume (1).pdf, Similarity Score: 0.30452667754203255\n"
     ]
    }
   ],
   "source": [
    "resumes =  ['Mukhesh resume software.pdf', 'Mukhesh resume final.docx', 'Mukhesh sure_resume.pdf','Mukhesh_sure resume (1).pdf']  \n",
    "\n",
    "\n",
    "job_description = \"\"\"Responsibilities:\n",
    "** Assist in the design, development, testing, and deployment of software solutions.\n",
    "** Help troubleshoot software issues and maintain documentation of software functionalities.\n",
    "** Participate in our product development from ideation to deployment and beyond.\n",
    "** Work alongside the product team to design, develop, and review product requirements and feasibility.\n",
    "** Develop tools and applications by producing clean, efficient code.\n",
    "** Participate in code reviews to maintain code quality and share knowledge.\n",
    "\n",
    "A Ninja is resilient, smart, and ambitious. Sounds like you? Here’s what you will need to have to join the Ninja Clan:\n",
    "** Currently pursuing a Bachelor's or Master’s degree in Computer Science, Engineering, or a related field.\n",
    "** Basic understanding of software development principles.\n",
    "** Good analytical and problem-solving abilities.\n",
    "** Strong knowledge of data structures and algorithms.\n",
    "** Familiarity with one or more programming languages such as Python, Java, or C++.\n",
    "** Ability to learn new technologies quickly.\n",
    "** Excellent verbal and written communication skills.\"\"\"  # Example job description\n",
    "\n",
    "\n",
    "job_features = parse_job_description(job_description)\n",
    "ranked_resumes = rank_candidates(resumes, job_description)\n",
    "for rank, (resume, score) in enumerate(ranked_resumes, start=1):\n",
    "    print(f\"Rank: {rank}, Resume: {resume}, Similarity Score: {score}\") \n"
   ]
  },
  {
   "cell_type": "code",
   "execution_count": null,
   "id": "515a3dc7",
   "metadata": {},
   "outputs": [],
   "source": []
  },
  {
   "cell_type": "code",
   "execution_count": null,
   "id": "2d42a957",
   "metadata": {},
   "outputs": [],
   "source": []
  },
  {
   "cell_type": "code",
   "execution_count": null,
   "id": "6b0bd6f0",
   "metadata": {},
   "outputs": [],
   "source": []
  },
  {
   "cell_type": "code",
   "execution_count": null,
   "id": "b4419952",
   "metadata": {},
   "outputs": [],
   "source": []
  },
  {
   "cell_type": "code",
   "execution_count": null,
   "id": "5c0aaf94",
   "metadata": {},
   "outputs": [],
   "source": []
  },
  {
   "cell_type": "code",
   "execution_count": null,
   "id": "77c692a7",
   "metadata": {},
   "outputs": [],
   "source": []
  }
 ],
 "metadata": {
  "kernelspec": {
   "display_name": "Python 3 (ipykernel)",
   "language": "python",
   "name": "python3"
  },
  "language_info": {
   "codemirror_mode": {
    "name": "ipython",
    "version": 3
   },
   "file_extension": ".py",
   "mimetype": "text/x-python",
   "name": "python",
   "nbconvert_exporter": "python",
   "pygments_lexer": "ipython3",
   "version": "3.11.3"
  }
 },
 "nbformat": 4,
 "nbformat_minor": 5
}
